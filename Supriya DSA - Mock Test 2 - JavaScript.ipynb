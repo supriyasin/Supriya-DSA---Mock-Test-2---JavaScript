{
 "cells": [
  {
   "cell_type": "code",
   "execution_count": null,
   "id": "64f03401",
   "metadata": {},
   "outputs": [],
   "source": [
    "#Given a non-negative integer x, return the square root of x rounded down to the nearest integer. The returned integer \n",
    "should be non-negative as well. You must not use any built-in exponent function or operator. \n",
    "\n",
    " Example 1:\n",
    "Input: x = 4 Output: 2 Explanation: The square root of 4 is 2, so we return 2.\n",
    "\n",
    "Example 2:\n",
    "Input: x = 8 Output: 2 Explanation: The square root of 8 is 2.82842..., and since we round it down to the nearest integer, \n",
    "2 is returned.\n",
    "\n",
    "Constraints:\n",
    "0 <= x <= 231 - 1\n",
    "\n",
    "\"\"\"To find the square root of a non-negative integer x and round it down to the nearest integer without using any built-in \n",
    "    exponent function or operator, we can use a binary search approach.\"\"\"\n",
    "\n",
    "#Here's the implementation in JavaScript:\n",
    "\n",
    "function mySqrt(x) {\n",
    "  if (x === 0) return 0;\n",
    "\n",
    "  let left = 1;\n",
    "  let right = Math.floor(x / 2);\n",
    "\n",
    "  while (left <= right) {\n",
    "    let mid = Math.floor((left + right) / 2);\n",
    "\n",
    "    if (mid * mid === x) {\n",
    "      return mid;\n",
    "    } else if (mid * mid < x) {\n",
    "      left = mid + 1;\n",
    "    } else {\n",
    "      right = mid - 1;\n",
    "    }\n",
    "  }\n",
    "\n",
    "  return right;\n",
    "}\n",
    "\n",
    "\"\"\"In this code, we first handle the special case where x is 0 and return 0 as the square root.\n",
    "\n",
    "   For other non-zero values of x, we initialize left to 1 and right to the floor of x divided by 2. Then, we perform a \n",
    "   binary search within the range from left to right to find the square root.\n",
    "\n",
    "   In each iteration of the binary search, we calculate the mid value as the average of left and right. We compare the \n",
    "   square of mid with x. If it matches, we have found the exact square root, and we return mid. If the square of mid is\n",
    "   less than x, we update left to mid + 1 to search for a larger value. Otherwise, if the square of mid is greater than x,\n",
    "   we update right to mid - 1 to search for a smaller value.\n",
    "\n",
    "   The binary search continues until left is no longer less than or equal to right. At this point, right will be the largest \n",
    "   integer whose square is less than or equal to x, so we return right as the rounded down square root.\n",
    "\n",
    "   Using this algorithm, we can find the square root of a non-negative integer x rounded down to the nearest integer, \n",
    "   satisfying the given constraints.\"\"\""
   ]
  }
 ],
 "metadata": {
  "kernelspec": {
   "display_name": "Python 3 (ipykernel)",
   "language": "python",
   "name": "python3"
  },
  "language_info": {
   "codemirror_mode": {
    "name": "ipython",
    "version": 3
   },
   "file_extension": ".py",
   "mimetype": "text/x-python",
   "name": "python",
   "nbconvert_exporter": "python",
   "pygments_lexer": "ipython3",
   "version": "3.9.12"
  }
 },
 "nbformat": 4,
 "nbformat_minor": 5
}
